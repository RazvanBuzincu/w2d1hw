{
 "cells": [
  {
   "cell_type": "markdown",
   "metadata": {},
   "source": [
    "# Week 2 - Monday Lesson (variable assignment, loops, lists)"
   ]
  },
  {
   "cell_type": "markdown",
   "metadata": {},
   "source": [
    "## Tasks Today:\n",
    "\n",
    "1) Int & Float assignments <br>\n",
    " &nbsp;&nbsp;&nbsp;&nbsp; a) Assigning int <br>\n",
    " &nbsp;&nbsp;&nbsp;&nbsp; b) Assigning float <br>\n",
    " &nbsp;&nbsp;&nbsp;&nbsp; c) Performing Calculations on ints and floats <br>\n",
    " &nbsp;&nbsp;&nbsp;&nbsp;&nbsp;&nbsp;&nbsp;&nbsp; - Addition <br>\n",
    " &nbsp;&nbsp;&nbsp;&nbsp;&nbsp;&nbsp;&nbsp;&nbsp; - Subtraction <br>\n",
    " &nbsp;&nbsp;&nbsp;&nbsp;&nbsp;&nbsp;&nbsp;&nbsp; - Multiplication <br>\n",
    " &nbsp;&nbsp;&nbsp;&nbsp;&nbsp;&nbsp;&nbsp;&nbsp; - Division <br>\n",
    " &nbsp;&nbsp;&nbsp;&nbsp;&nbsp;&nbsp;&nbsp;&nbsp; - Floor Division <br>\n",
    " &nbsp;&nbsp;&nbsp;&nbsp;&nbsp;&nbsp;&nbsp;&nbsp; - Modulo <br>\n",
    " &nbsp;&nbsp;&nbsp;&nbsp;&nbsp;&nbsp;&nbsp;&nbsp; - Exponential <br>\n",
    "2) String Input-Output <br>\n",
    " &nbsp;&nbsp;&nbsp;&nbsp; a) String Assignment <br>\n",
    " &nbsp;&nbsp;&nbsp;&nbsp; b) print() <br>\n",
    " &nbsp;&nbsp;&nbsp;&nbsp; c) String Concatenation <br>\n",
    " &nbsp;&nbsp;&nbsp;&nbsp; d) Type Conversion <br>\n",
    " &nbsp;&nbsp;&nbsp;&nbsp; e) input() <br>\n",
    " &nbsp;&nbsp;&nbsp;&nbsp; f) format() <br>\n",
    " &nbsp;&nbsp;&nbsp;&nbsp; g) Old Way (python 2) <br>\n",
    "3) <b>In-Class Exercise #1</b> <br>\n",
    "4) If Statements <br>\n",
    " &nbsp;&nbsp;&nbsp;&nbsp; a) 'is' keyword <br>\n",
    " &nbsp;&nbsp;&nbsp;&nbsp; b) 'in' keyword <br>\n",
    " &nbsp;&nbsp;&nbsp;&nbsp; c) 'not in' keyword <br>\n",
    "5) <b>In-Class Exercise #2</b> <br>\n",
    "6) Elif Statements <br>\n",
    "7) Else Statements <br>\n",
    "8) <b>In-Class Exercise #3</b> <br>\n",
    "9) Built-In Functions <br>\n",
    "\n",
    " &nbsp;&nbsp;&nbsp;&nbsp; b) len() <br>\n",
    " &nbsp;&nbsp;&nbsp;&nbsp; c) help() <br>\n",
    " &nbsp;&nbsp;&nbsp;&nbsp; d) isinstance() <br>\n",
    " &nbsp;&nbsp;&nbsp;&nbsp; e) abs() <br>\n",
    "10) Try and Except <br>\n"
   ]
  },
  {
   "cell_type": "markdown",
   "metadata": {},
   "source": [
    "### Int & Float Assignments"
   ]
  },
  {
   "cell_type": "markdown",
   "metadata": {},
   "source": [
    "##### Assigning int"
   ]
  },
  {
   "cell_type": "code",
   "execution_count": 8,
   "metadata": {},
   "outputs": [
    {
     "name": "stdout",
     "output_type": "stream",
     "text": [
      "6\n",
      "21\n",
      "7\n"
     ]
    }
   ],
   "source": [
    "# assigning a variable in python\n",
    "# variable name is to the left of the equals sign\n",
    "# variable value is to the right\n",
    "# integer is any whole number\n",
    "number = 6\n",
    "print(number)\n",
    "elephants = 21\n",
    "print(elephants)\n",
    "print(7)\n",
    "\n",
    "x = 10\n",
    "y = 7\n"
   ]
  },
  {
   "cell_type": "markdown",
   "metadata": {},
   "source": [
    "##### Assigning float"
   ]
  },
  {
   "cell_type": "code",
   "execution_count": 11,
   "metadata": {},
   "outputs": [
    {
     "name": "stdout",
     "output_type": "stream",
     "text": [
      "3.14\n",
      "30.322345346565466\n",
      "12.0\n"
     ]
    }
   ],
   "source": [
    "# a float is any number with a decimal\n",
    "num_float = 3.14\n",
    "print(num_float)\n",
    "my_float = 30.322345346565467657\n",
    "print(my_float)\n",
    "\n",
    "another_float = 12.0\n",
    "print(another_float)\n"
   ]
  },
  {
   "cell_type": "markdown",
   "metadata": {},
   "source": [
    "#### Performing Calculations on ints and floats"
   ]
  },
  {
   "cell_type": "markdown",
   "metadata": {},
   "source": [
    "##### Addition"
   ]
  },
  {
   "cell_type": "code",
   "execution_count": 5,
   "metadata": {},
   "outputs": [
    {
     "name": "stdout",
     "output_type": "stream",
     "text": [
      "10\n",
      "10\n"
     ]
    }
   ],
   "source": [
    "num1 = 3\n",
    "num2 = 7\n",
    "\n",
    "print(num1 + num2)\n",
    "\n",
    "\n",
    "# variable  = 3 + 7\n",
    "result = num1 + num2\n",
    "print(result)"
   ]
  },
  {
   "cell_type": "code",
   "execution_count": 22,
   "metadata": {},
   "outputs": [
    {
     "name": "stdout",
     "output_type": "stream",
     "text": [
      "17\n",
      "17\n"
     ]
    }
   ],
   "source": [
    "# +=\n",
    "num3 = 15\n",
    "num4 = 2\n",
    "result2 = num3 + num4\n",
    "print(result2)\n",
    "\n",
    "result += num4\n",
    "print(result2)\n"
   ]
  },
  {
   "cell_type": "markdown",
   "metadata": {},
   "source": [
    "##### Subtraction"
   ]
  },
  {
   "cell_type": "code",
   "execution_count": 25,
   "metadata": {},
   "outputs": [
    {
     "name": "stdout",
     "output_type": "stream",
     "text": [
      "13\n",
      "13\n",
      "9\n"
     ]
    }
   ],
   "source": [
    "num3 = 15\n",
    "num4 = 2\n",
    "# 15 - 2\n",
    "print(num3 - num4)\n",
    "\n",
    "# setting a variable to the difference of two numbers\n",
    "result = num3 - num4\n",
    "print(result)\n",
    "\n",
    "# -=\n",
    "# my_num = my_num -1\n",
    "my_num = 10\n",
    "my_num -= 1\n",
    "print(my_num)"
   ]
  },
  {
   "cell_type": "markdown",
   "metadata": {},
   "source": [
    "##### Multiplication"
   ]
  },
  {
   "cell_type": "code",
   "execution_count": 9,
   "metadata": {},
   "outputs": [
    {
     "name": "stdout",
     "output_type": "stream",
     "text": [
      "90\n",
      "6\n"
     ]
    }
   ],
   "source": [
    "# *\n",
    "num1 = 10\n",
    "num2 - 4.7\n",
    "\n",
    "product = num1 * num2\n",
    "print(product)\n",
    "\n",
    "# *=\n",
    "another_num = 6\n",
    "# another_num = another_num * 2\n",
    "another_num *- 2\n",
    "print(another_num)"
   ]
  },
  {
   "cell_type": "code",
   "execution_count": null,
   "metadata": {},
   "outputs": [],
   "source": []
  },
  {
   "cell_type": "code",
   "execution_count": null,
   "metadata": {},
   "outputs": [],
   "source": []
  },
  {
   "cell_type": "markdown",
   "metadata": {},
   "source": [
    "##### Division"
   ]
  },
  {
   "cell_type": "code",
   "execution_count": 6,
   "metadata": {},
   "outputs": [
    {
     "name": "stdout",
     "output_type": "stream",
     "text": [
      "5.0\n"
     ]
    }
   ],
   "source": [
    "# /\n",
    "num1 = 45\n",
    "num2 = 9\n",
    "# variable = 45 / 9\n",
    "quotient = num1 / num2\n",
    "print(quotient)"
   ]
  },
  {
   "cell_type": "code",
   "execution_count": 7,
   "metadata": {},
   "outputs": [
    {
     "name": "stdout",
     "output_type": "stream",
     "text": [
      "15.0\n"
     ]
    }
   ],
   "source": [
    "# /=\n",
    "num1 = 45\n",
    "num1 /= 3\n",
    "print(num1)"
   ]
  },
  {
   "cell_type": "markdown",
   "metadata": {},
   "source": [
    "##### Floor Division"
   ]
  },
  {
   "cell_type": "code",
   "execution_count": 11,
   "metadata": {},
   "outputs": [
    {
     "name": "stdout",
     "output_type": "stream",
     "text": [
      "2\n",
      "2.5\n"
     ]
    }
   ],
   "source": [
    "# //\n",
    "# round down to the nearest whole number\n",
    "sam = 5\n",
    "frodo = 2\n",
    "# variable = 5 // 2\n",
    "floored  = sam // frodo\n",
    "# result from dividng these is 2.6\n",
    "#  the floor is going round down the nearest whole number\n",
    "print(floored)\n",
    "\n",
    "num1 = 5\n",
    "num2 = 2\n",
    "divided = num1 / num2\n",
    "print(divided)"
   ]
  },
  {
   "cell_type": "code",
   "execution_count": null,
   "metadata": {},
   "outputs": [],
   "source": []
  },
  {
   "cell_type": "markdown",
   "metadata": {},
   "source": [
    "##### Modulo"
   ]
  },
  {
   "cell_type": "code",
   "execution_count": 12,
   "metadata": {},
   "outputs": [
    {
     "name": "stdout",
     "output_type": "stream",
     "text": [
      "even\n"
     ]
    }
   ],
   "source": [
    "# modulo %\n",
    "# modulo returns the remainder of a division problem\n",
    "num = 6\n",
    "if num % 2 == 0:\n",
    "    print(\"even\")\n",
    "else:\n",
    "    print(\"odd\")"
   ]
  },
  {
   "cell_type": "code",
   "execution_count": 13,
   "metadata": {},
   "outputs": [
    {
     "name": "stdout",
     "output_type": "stream",
     "text": [
      "0\n"
     ]
    }
   ],
   "source": [
    "num = 6\n",
    "remainder = num % 2\n",
    "print(remainder)"
   ]
  },
  {
   "cell_type": "code",
   "execution_count": 14,
   "metadata": {},
   "outputs": [
    {
     "name": "stdout",
     "output_type": "stream",
     "text": [
      "1\n"
     ]
    }
   ],
   "source": [
    "num  = 5\n",
    "remainder = num % 2\n",
    "print(remainder)"
   ]
  },
  {
   "cell_type": "markdown",
   "metadata": {},
   "source": [
    "##### Exponential"
   ]
  },
  {
   "cell_type": "code",
   "execution_count": 18,
   "metadata": {},
   "outputs": [
    {
     "name": "stdout",
     "output_type": "stream",
     "text": [
      "25\n",
      "36\n"
     ]
    }
   ],
   "source": [
    "# exponential **,  num*2\n",
    "square = 5 ** 2 # **2 squares a number\n",
    "print(square)\n",
    "\n",
    "number = 6\n",
    "# number = number ** 2\n",
    "number **= 2\n",
    "print(number)"
   ]
  },
  {
   "cell_type": "code",
   "execution_count": 19,
   "metadata": {},
   "outputs": [
    {
     "name": "stdout",
     "output_type": "stream",
     "text": [
      "27\n"
     ]
    }
   ],
   "source": [
    "cubed = 3 ** 3\n",
    "print(cubed)\n"
   ]
  },
  {
   "cell_type": "markdown",
   "metadata": {},
   "source": [
    "### String Input-Output"
   ]
  },
  {
   "cell_type": "markdown",
   "metadata": {},
   "source": [
    "##### String Assignment"
   ]
  },
  {
   "cell_type": "code",
   "execution_count": 21,
   "metadata": {},
   "outputs": [
    {
     "name": "stdout",
     "output_type": "stream",
     "text": [
      "Ryan\n",
      "3\n",
      "Mutt\n",
      "I am Razvan and I'm learning Python\n"
     ]
    }
   ],
   "source": [
    "# string is denoted using \"\" ''\n",
    "name  = \"Ryan\"\n",
    "num_string = \"3\"\n",
    "dog = \"Mutt\"\n",
    "print(name)\n",
    "print(num_string)\n",
    "print(dog)\n",
    "\n",
    "my_sentence = \"I am Razvan and I'm learning Python\"\n",
    "print(my_sentence)"
   ]
  },
  {
   "cell_type": "markdown",
   "metadata": {},
   "source": [
    "##### print() <br>\n",
    "<p>Don't forget about end=' '</p>"
   ]
  },
  {
   "cell_type": "code",
   "execution_count": 27,
   "metadata": {},
   "outputs": [
    {
     "name": "stdout",
     "output_type": "stream",
     "text": [
      "Hello, Ryan\n",
      "Full Name: Ryan Rhoades\n",
      "\n",
      "Hello There\n"
     ]
    }
   ],
   "source": [
    "name = \"Ryan\"\n",
    "print(\"Hello,\" , name)\n",
    "print(\"Full Name:\" , name, end =\" Rhoades\")\n",
    "print(\"\\n\")\n",
    "print(\"Hello There\")"
   ]
  },
  {
   "cell_type": "markdown",
   "metadata": {},
   "source": [
    "##### String Concatenation"
   ]
  },
  {
   "cell_type": "code",
   "execution_count": 36,
   "metadata": {},
   "outputs": [
    {
     "name": "stdout",
     "output_type": "stream",
     "text": [
      "Luke Skywalker\n",
      "Luke Skywalker\n",
      "Luke Skywalker Jedi Master\n"
     ]
    }
   ],
   "source": [
    "# string are immutable meaning they can't be changed\n",
    "# adding two or more string together to mane one large string\n",
    "# this is done by either creating a new variable to hold  the two concatenated strings\n",
    "# or reassigning a current variable\n",
    "first_name  = \"Luke\"\n",
    "last_name = \"Skywalker\"\n",
    "\n",
    "full_name = \"Luke\" + \" \" + \"Skywalker\"\n",
    "print(full_name)\n",
    "\n",
    "full_name = first_name + \" \" + last_name\n",
    "print(full_name)\n",
    "\n",
    "# += also works here\n",
    "full_name += (\" \" + \"Jedi Master\")\n",
    "print(full_name)\n"
   ]
  },
  {
   "cell_type": "code",
   "execution_count": null,
   "metadata": {},
   "outputs": [],
   "source": []
  },
  {
   "cell_type": "code",
   "execution_count": null,
   "metadata": {},
   "outputs": [],
   "source": []
  },
  {
   "cell_type": "markdown",
   "metadata": {},
   "source": [
    "##### Type Conversion"
   ]
  },
  {
   "cell_type": "code",
   "execution_count": 40,
   "metadata": {},
   "outputs": [
    {
     "name": "stdout",
     "output_type": "stream",
     "text": [
      "<class 'int'>\n",
      "<class 'str'>\n",
      "<class 'str'>\n",
      "<class 'float'>\n"
     ]
    }
   ],
   "source": [
    "# int() -> convert type to integer\n",
    "# float() -> convert type to float\n",
    "# str() -> converts type to a string\n",
    "\n",
    "# not every string can be turned into a float or an integer\n",
    "# but every integer and float can be made into a string\n",
    "\n",
    "# type() gives us the type of the variable\n",
    "x = 12\n",
    "print(type(x))\n",
    "\n",
    "name = \"Ryan\"\n",
    "print(type(name))\n",
    "\n",
    "num_str = \"15\"\n",
    "print(type(num_str))\n",
    "\n",
    "y = 1.45\n",
    "print(type(y))"
   ]
  },
  {
   "cell_type": "code",
   "execution_count": 41,
   "metadata": {},
   "outputs": [
    {
     "name": "stdout",
     "output_type": "stream",
     "text": [
      "12\n",
      "1.45\n"
     ]
    }
   ],
   "source": [
    "new_x = str(x)\n",
    "\n",
    "new_y = str(y)\n",
    "\n",
    "print(new_x)\n",
    "print(new_y)\n"
   ]
  },
  {
   "cell_type": "code",
   "execution_count": 2,
   "metadata": {},
   "outputs": [
    {
     "ename": "NameError",
     "evalue": "name 'num_str' is not defined",
     "output_type": "error",
     "traceback": [
      "\u001b[1;31m---------------------------------------------------------------------------\u001b[0m",
      "\u001b[1;31mNameError\u001b[0m                                 Traceback (most recent call last)",
      "Cell \u001b[1;32mIn[2], line 1\u001b[0m\n\u001b[1;32m----> 1\u001b[0m num \u001b[38;5;241m=\u001b[39m \u001b[38;5;28mint\u001b[39m(\u001b[43mnum_str\u001b[49m)\n\u001b[0;32m      2\u001b[0m \u001b[38;5;28mprint\u001b[39m(num)\n\u001b[0;32m      3\u001b[0m \u001b[38;5;28mprint\u001b[39m(\u001b[38;5;28mtype\u001b[39m(num))\n",
      "\u001b[1;31mNameError\u001b[0m: name 'num_str' is not defined"
     ]
    }
   ],
   "source": [
    "num = int(num_str)\n",
    "print(num)\n",
    "print(type(num))\n",
    "\n",
    "floaty = float(num_str)\n",
    "print(floaty)\n",
    "print(type(floaty))"
   ]
  },
  {
   "cell_type": "markdown",
   "metadata": {},
   "source": [
    "##### input()"
   ]
  },
  {
   "cell_type": "code",
   "execution_count": 5,
   "metadata": {},
   "outputs": [
    {
     "name": "stdin",
     "output_type": "stream",
     "text": [
      "What is your name? Razvan\n"
     ]
    },
    {
     "name": "stdout",
     "output_type": "stream",
     "text": [
      "Your name is Razvan\n"
     ]
    },
    {
     "name": "stdin",
     "output_type": "stream",
     "text": [
      "What is your quest?  I seek knowledge\n"
     ]
    },
    {
     "name": "stdout",
     "output_type": "stream",
     "text": [
      "Your quest is I seek knowledge\n"
     ]
    },
    {
     "name": "stdin",
     "output_type": "stream",
     "text": [
      "What is your favourite color?  Green\n"
     ]
    },
    {
     "name": "stdout",
     "output_type": "stream",
     "text": [
      "Your favourite color is Green\n"
     ]
    }
   ],
   "source": [
    "# input will always return a string all of the time, forever and ever\n",
    "name = input(\"What is your name?\")\n",
    "print(\"Your name is\" , name)\n",
    "\n",
    "quest = input(\"What is your quest? \")\n",
    "print(\"Your quest is\", quest)\n",
    "\n",
    "color = input(\"What is your favourite color? \")\n",
    "print(\"Your favourite color is\", color)"
   ]
  },
  {
   "cell_type": "code",
   "execution_count": 8,
   "metadata": {},
   "outputs": [
    {
     "name": "stdin",
     "output_type": "stream",
     "text": [
      "How old are you 34\n"
     ]
    },
    {
     "name": "stdout",
     "output_type": "stream",
     "text": [
      "Your age is 34\n",
      "35\n"
     ]
    }
   ],
   "source": [
    "age = int(input(\"How old are you\"))\n",
    "print(\"Your age is\",  age)\n",
    "\n",
    "age +=1\n",
    "print(age)\n"
   ]
  },
  {
   "cell_type": "code",
   "execution_count": 14,
   "metadata": {},
   "outputs": [
    {
     "name": "stdout",
     "output_type": "stream",
     "text": [
      "Hello my name is Razvan\n"
     ]
    },
    {
     "name": "stdin",
     "output_type": "stream",
     "text": [
      "How old are you?  34\n",
      "What is your name?  Marcel\n"
     ]
    },
    {
     "name": "stdout",
     "output_type": "stream",
     "text": [
      "You are 34 years old, Marcel, and you are getting wiser\n"
     ]
    }
   ],
   "source": []
  },
  {
   "cell_type": "markdown",
   "metadata": {},
   "source": [
    "##### format()"
   ]
  },
  {
   "cell_type": "code",
   "execution_count": 15,
   "metadata": {},
   "outputs": [
    {
     "name": "stdout",
     "output_type": "stream",
     "text": [
      "Hello my name is Razvan\n"
     ]
    },
    {
     "name": "stdin",
     "output_type": "stream",
     "text": [
      "How old are you?  34\n",
      "What is your name?  Razvan\n"
     ]
    },
    {
     "name": "stdout",
     "output_type": "stream",
     "text": [
      "You are 34 years old, Razvan, and you are getting wiser\n"
     ]
    }
   ],
   "source": [
    "# format()\n",
    "\n",
    "# f string f\"\"\n",
    "name = \"Razvan\"\n",
    "print(f\"Hello my name is {name}\")\n",
    "\n",
    "# format()\n",
    "age = int(input(\"How old are you? \"))\n",
    "name = (input(\"What is your name? \"))\n",
    "\n",
    "result_string = \"You are {} years old, {}, and you are getting wiser\".format(age, name)\n",
    "print(result_string)"
   ]
  },
  {
   "cell_type": "markdown",
   "metadata": {},
   "source": [
    "##### Old Way (python 2)"
   ]
  },
  {
   "cell_type": "code",
   "execution_count": null,
   "metadata": {},
   "outputs": [],
   "source": []
  },
  {
   "cell_type": "markdown",
   "metadata": {},
   "source": [
    "# In-Class Exercise 1 <br>\n",
    "<p>Create a formatted statement that asks for a car's color, year, make, model and prints out the results</p>"
   ]
  },
  {
   "cell_type": "code",
   "execution_count": 21,
   "metadata": {},
   "outputs": [
    {
     "name": "stdin",
     "output_type": "stream",
     "text": [
      "What's the color of your car? Green\n",
      "What's the year your car was build? 1972\n",
      "Whats's the make of your car? Audi\n",
      "What's the model of your car? A4\n"
     ]
    },
    {
     "name": "stdout",
     "output_type": "stream",
     "text": [
      " My car is Green 1972 Audi A4.\n"
     ]
    }
   ],
   "source": [
    "color = input(\"What's the color of your car?\")\n",
    "year = int(input(\"What's the year your car was build?\"))\n",
    "make = input(\"Whats's the make of your car?\")\n",
    "model = input(\"What's the model of your car?\")\n",
    "\n",
    "car = (f\" My car is a {color} {year} {make} {model}.\")\n",
    "print(car)\n",
    "           "
   ]
  },
  {
   "cell_type": "code",
   "execution_count": null,
   "metadata": {},
   "outputs": [],
   "source": []
  },
  {
   "cell_type": "code",
   "execution_count": null,
   "metadata": {},
   "outputs": [],
   "source": []
  },
  {
   "cell_type": "markdown",
   "metadata": {},
   "source": [
    "### If Statements"
   ]
  },
  {
   "cell_type": "code",
   "execution_count": 22,
   "metadata": {},
   "outputs": [
    {
     "name": "stdout",
     "output_type": "stream",
     "text": [
      "It's bigger\n"
     ]
    }
   ],
   "source": [
    "#  also known as conditionals. This is essentially asking questions about our data, \n",
    "#  then doing something base on the answer\n",
    "\n",
    "\n",
    "# Operators Less Than <, Greater Than >, Equal too ==, Not Equal To !=\n",
    "# Less Than or Equal To <=, Greater Than or Equal To >=\n",
    "\n",
    "num1 = 6\n",
    "num2 = 65\n",
    "\n",
    "# to ask questions of our data we use the \"if\" keyword\n",
    "# our question always starts with \"if\", ask our question, ends with ;\n",
    "\n",
    "if num2 > num1: \n",
    "    print(\"It's bigger\")\n",
    "\n",
    "# two different types of equal signs. singular = and double ==\n",
    "# we use a singular = when we are declaring variables\n",
    "# we use double == when we are checking VALUE equality"
   ]
  },
  {
   "cell_type": "markdown",
   "metadata": {},
   "source": [
    "##### 'is' keyword"
   ]
  },
  {
   "cell_type": "code",
   "execution_count": 25,
   "metadata": {
    "scrolled": true
   },
   "outputs": [
    {
     "name": "stdout",
     "output_type": "stream",
     "text": [
      "It is equal to 90\n",
      "This will also work\n"
     ]
    }
   ],
   "source": [
    "# double equal is referencing VALUE equality\n",
    "# the \"is\" keyword is referencing object equality also reference equality\n",
    "num3 = 90\n",
    "num4 = 90\n",
    "\n",
    "if num3 == 90:\n",
    "    print(\"It is equal to 90\")\n",
    "\n",
    "if num3 is num4:\n",
    "    print(\"This will also work\")\n",
    "\n",
    "\n",
    "\n"
   ]
  },
  {
   "cell_type": "markdown",
   "metadata": {},
   "source": [
    "##### 'in' keyword"
   ]
  },
  {
   "cell_type": "code",
   "execution_count": 26,
   "metadata": {},
   "outputs": [
    {
     "name": "stdout",
     "output_type": "stream",
     "text": [
      "True\n"
     ]
    }
   ],
   "source": [
    "#1 way we use the \"in\" keyword is to check if value is inside something else -membership check\n",
    "name = \"Morgan\"\n",
    "\n",
    "if \"a\" in name:\n",
    "    print(True)\n"
   ]
  },
  {
   "cell_type": "markdown",
   "metadata": {},
   "source": [
    "##### 'not in' keyword'"
   ]
  },
  {
   "cell_type": "code",
   "execution_count": 29,
   "metadata": {},
   "outputs": [
    {
     "name": "stdout",
     "output_type": "stream",
     "text": [
      "It's not there\n"
     ]
    }
   ],
   "source": [
    "if \"z\" not in name:\n",
    "    print(\"It's not there\")\n"
   ]
  },
  {
   "cell_type": "code",
   "execution_count": 30,
   "metadata": {},
   "outputs": [
    {
     "name": "stdout",
     "output_type": "stream",
     "text": [
      "How lovely\n"
     ]
    }
   ],
   "source": [
    "if \"a\" in name:\n",
    "    print(\"How lovely\")\n",
    "elif \"b\" not in name:\n",
    "    print(\"It's not there\")"
   ]
  },
  {
   "cell_type": "markdown",
   "metadata": {},
   "source": [
    "# In-Class Exercise 2 <br>\n",
    "<p>Ask user for input, check to see if the letter 'p' is in the input</p>\n",
    "<p>Check for case sensitivity</p>\n"
   ]
  },
  {
   "cell_type": "code",
   "execution_count": 37,
   "metadata": {},
   "outputs": [
    {
     "name": "stdin",
     "output_type": "stream",
     "text": [
      "Please enter your name  Patrick\n"
     ]
    },
    {
     "name": "stdout",
     "output_type": "stream",
     "text": [
      "contains 'p'\n"
     ]
    }
   ],
   "source": [
    "name = input(\"Please enter your name \")\n",
    "\n",
    "if 'p' and \"P\" in name:\n",
    "    print(\"contains 'p'\")\n",
    "else:\n",
    "    print(\"no p\")"
   ]
  },
  {
   "cell_type": "code",
   "execution_count": 34,
   "metadata": {},
   "outputs": [
    {
     "name": "stdout",
     "output_type": "stream",
     "text": [
      "p exists and is truesy value\n"
     ]
    }
   ],
   "source": [
    "if \"p\":\n",
    "    print (\"p exists and is truesy value\")"
   ]
  },
  {
   "cell_type": "code",
   "execution_count": null,
   "metadata": {},
   "outputs": [],
   "source": [
    "# there are truesy values so basically anything that actually has a value\n",
    "# there are falsy values so 0, \"\" , [] , {},"
   ]
  },
  {
   "cell_type": "code",
   "execution_count": null,
   "metadata": {},
   "outputs": [],
   "source": []
  },
  {
   "cell_type": "markdown",
   "metadata": {},
   "source": [
    "## Using 'and'/'or' with If Statements"
   ]
  },
  {
   "cell_type": "code",
   "execution_count": 41,
   "metadata": {},
   "outputs": [
    {
     "name": "stdout",
     "output_type": "stream",
     "text": [
      "True and True\n",
      "One of these is false\n",
      "True and True\n",
      "Both of these is false\n"
     ]
    }
   ],
   "source": [
    "# we can chain our questions/conditionals together. We can ask multiple questions in the same line.\n",
    "\n",
    "#Truth Tree\n",
    "# T && F = F \"and\"\n",
    "# T && T = T \"and\"\n",
    "# T || F = T \"or\"\n",
    "# F || T = T \"or\"\n",
    "# F || F = F \"or\"\n",
    "\n",
    "num1 = 15\n",
    "num2 = 3\n",
    "num3 = 10\n",
    "num4 = 3\n",
    "\n",
    "# if statement with either \"and\"/\"or\"\n",
    "\n",
    "if num1 / 5 == num2 and num3 - 7 == num4:\n",
    "    print(\"True and True\")\n",
    "else:\n",
    "    print(\"one of these is false\")\n",
    "\n",
    "         #T                  #F\n",
    "if num1 / 5 == num2 and num3 / 5 == num4:\n",
    "    print(\"True and True\")\n",
    "else:\n",
    "    print(\"One of these is false\")\n",
    "\n",
    "\n",
    "       #T                 #F\n",
    "if num1 / 5 == num2 or num3 / 5 == num4:\n",
    "    print(\"True and True\")\n",
    "else:\n",
    "    print(\"Both of these is false\")\n",
    "\n",
    "\n",
    "        #F                  #F\n",
    "if num1 / 6 == num2 or num3 / 5 == num4:\n",
    "    print(\"True and True\")\n",
    "else:\n",
    "    print(\"Both of these is false\")\n",
    "\n",
    "\n"
   ]
  },
  {
   "cell_type": "markdown",
   "metadata": {},
   "source": [
    "### Elif Statements"
   ]
  },
  {
   "cell_type": "code",
   "execution_count": 46,
   "metadata": {},
   "outputs": [
    {
     "name": "stdout",
     "output_type": "stream",
     "text": [
      "Hey it's Justin\n"
     ]
    }
   ],
   "source": [
    "#if conidtion 1\n",
    "#elif condition 2\n",
    "#elif condition 3\n",
    "#elif condition 4\n",
    "#else (all other conditions)\n",
    "\n",
    "# always start with an if, meaning your first question begins with an \"if\"\n",
    "\n",
    "first_name = \"Justin\"\n",
    "\n",
    "#with if ,elif , else statements as soon as one of them kits it skips the rest\n",
    "\n",
    "if first_name == \"Harry\":\n",
    "    print(\"You're and wizard Harry\")\n",
    "elif first_name == \"Justin\":\n",
    "    print(\"Hey it's Justin\")\n",
    "elif first_name == \"Ron\":\n",
    "    print(\"Eat Slugs\")\n",
    "elif first_name == \"Hermione\":\n",
    "    print(\" Its leviOsa not levioSA\")\n",
    "else:\n",
    "    print(f\"You are not a wizzard {first_name}, sorry:(\")\n",
    "\n"
   ]
  },
  {
   "cell_type": "code",
   "execution_count": 47,
   "metadata": {},
   "outputs": [
    {
     "name": "stdout",
     "output_type": "stream",
     "text": [
      "Hey its Justin\n",
      "The is have it!\n"
     ]
    }
   ],
   "source": [
    "# chaining if statement on top of each other is going to check all of them\n",
    "# however, if elif else statements as soon as one hits it skips the rest\n",
    "\n",
    "if first_name == \"Justin\":\n",
    "    print(\"Hey its Justin\")\n",
    "if \"i\" in first_name:\n",
    "    print(\"The is have it!\")"
   ]
  },
  {
   "cell_type": "markdown",
   "metadata": {},
   "source": [
    "### Else Statements"
   ]
  },
  {
   "cell_type": "code",
   "execution_count": 50,
   "metadata": {},
   "outputs": [
    {
     "name": "stdout",
     "output_type": "stream",
     "text": [
      "You are not a wizzard Justin, sorry:(\n"
     ]
    }
   ],
   "source": [
    "#else is accounting for every other case that isn't true for any of the ifs or elifs\n",
    "# see above harry potter example\n",
    "# if none of the if or elifs hit, the else will hit\n",
    "\n",
    "#you dont need and else statement\n",
    "\n",
    "if first_name == \"Harry\":\n",
    "    print(\"You're and wizard Harry\")\n",
    "elif first_name == \"Ron\":\n",
    "    print(\"Eat Slugs\")\n",
    "elif first_name == \"Hermione\":\n",
    "    print(\" Its leviOsa not levioSA\")\n",
    "else:\n",
    "    print(f\"You are not a wizzard {first_name}, sorry:(\")"
   ]
  },
  {
   "cell_type": "markdown",
   "metadata": {},
   "source": [
    "### String Manipulation"
   ]
  },
  {
   "cell_type": "markdown",
   "metadata": {},
   "source": [
    "#### .lstrip()"
   ]
  },
  {
   "cell_type": "code",
   "execution_count": 54,
   "metadata": {},
   "outputs": [
    {
     "name": "stdout",
     "output_type": "stream",
     "text": [
      "                  Lando Calrissian\n",
      "Lando Calrissian\n"
     ]
    }
   ],
   "source": [
    "# our_string.lstrip()\n",
    "\n",
    "name = \"                  Lando Calrissian\"\n",
    "print(name)\n",
    "name = name.lstrip() #left strip so strips the white space to the left of the string characters\n",
    "print(name)"
   ]
  },
  {
   "cell_type": "markdown",
   "metadata": {},
   "source": [
    "#### .rstrip()"
   ]
  },
  {
   "cell_type": "code",
   "execution_count": 55,
   "metadata": {},
   "outputs": [
    {
     "name": "stdout",
     "output_type": "stream",
     "text": [
      "Luke Skywalker             \n",
      "Luke Skywalker\n"
     ]
    }
   ],
   "source": [
    "# our_string.rstrip()\n",
    "\n",
    "name = \"Luke Skywalker             \"\n",
    "print(name)\n",
    "name = name.rstrip()\n",
    "print(name)"
   ]
  },
  {
   "cell_type": "markdown",
   "metadata": {},
   "source": [
    "#### .strip()"
   ]
  },
  {
   "cell_type": "code",
   "execution_count": 57,
   "metadata": {},
   "outputs": [
    {
     "name": "stdout",
     "output_type": "stream",
     "text": [
      "         Ash ketchum         \n",
      "Ash ketchum\n"
     ]
    }
   ],
   "source": [
    "# our.string.strip()\n",
    "\n",
    "name = \"         Ash ketchum         \"\n",
    "print(name)\n",
    "name = name.strip()\n",
    "print(name)"
   ]
  },
  {
   "cell_type": "code",
   "execution_count": 58,
   "metadata": {},
   "outputs": [
    {
     "name": "stdin",
     "output_type": "stream",
     "text": [
      "What would you like to do? Play, pause, stop?  play\n"
     ]
    },
    {
     "name": "stdout",
     "output_type": "stream",
     "text": [
      "Playing your movie\n"
     ]
    }
   ],
   "source": [
    "options = input(\"What would you like to do? Play, pause, stop? \")\n",
    "\n",
    "if options == \"play\":\n",
    "    print(\"Playing your movie\")"
   ]
  },
  {
   "cell_type": "code",
   "execution_count": null,
   "metadata": {},
   "outputs": [],
   "source": []
  },
  {
   "cell_type": "code",
   "execution_count": 59,
   "metadata": {},
   "outputs": [
    {
     "name": "stdout",
     "output_type": "stream",
     "text": [
      "Alex,\n",
      "Alex\n"
     ]
    }
   ],
   "source": [
    "#.replace()\n",
    "\n",
    "name = \"Alex,\"\n",
    "print(name)\n",
    "\n",
    "#replace function take in two arguments\n",
    "#first is what we are replacing, second is what we are replacing it with\n",
    "name = name.replace(\",\" , \"\")\n",
    "print(name)"
   ]
  },
  {
   "cell_type": "markdown",
   "metadata": {},
   "source": [
    "#### .title()"
   ]
  },
  {
   "cell_type": "code",
   "execution_count": 61,
   "metadata": {},
   "outputs": [
    {
     "name": "stdout",
     "output_type": "stream",
     "text": [
      "mo truong\n",
      "Mo Truong\n"
     ]
    }
   ],
   "source": [
    "#our_string.title()\n",
    "\n",
    "name = \"mo truong\"\n",
    "print(name)\n",
    "\n",
    "name = name.title()\n",
    "print(name)\n",
    "\n"
   ]
  },
  {
   "cell_type": "markdown",
   "metadata": {},
   "source": [
    "#### .upper()"
   ]
  },
  {
   "cell_type": "code",
   "execution_count": 62,
   "metadata": {},
   "outputs": [
    {
     "name": "stdout",
     "output_type": "stream",
     "text": [
      "MO TRUONG\n"
     ]
    }
   ],
   "source": [
    "# our_string.upper()\n",
    "name = name.upper()\n",
    "print(name)"
   ]
  },
  {
   "cell_type": "markdown",
   "metadata": {},
   "source": [
    "#### .lower()"
   ]
  },
  {
   "cell_type": "code",
   "execution_count": 63,
   "metadata": {
    "scrolled": true
   },
   "outputs": [
    {
     "name": "stdout",
     "output_type": "stream",
     "text": [
      "mo truong\n"
     ]
    }
   ],
   "source": [
    "# our_string.lower()\n",
    "name = name.lower()\n",
    "print(name)\n"
   ]
  },
  {
   "cell_type": "code",
   "execution_count": 64,
   "metadata": {},
   "outputs": [
    {
     "name": "stdin",
     "output_type": "stream",
     "text": [
      "What would you like to do? Play, pause, stop?  Play\n"
     ]
    },
    {
     "name": "stdout",
     "output_type": "stream",
     "text": [
      "Playing your movie\n"
     ]
    }
   ],
   "source": [
    "options = input(\"What would you like to do? Play, pause, stop? \").strip().lower()\n",
    "\n",
    "if options == \"play\":\n",
    "    print(\"Playing your movie\")"
   ]
  },
  {
   "cell_type": "markdown",
   "metadata": {},
   "source": [
    "### String Exercise"
   ]
  },
  {
   "cell_type": "markdown",
   "metadata": {},
   "source": [
    "Have a user input a sentence. Return the name with all white space removed and each first letter capitalized."
   ]
  },
  {
   "cell_type": "code",
   "execution_count": 66,
   "metadata": {},
   "outputs": [
    {
     "name": "stdin",
     "output_type": "stream",
     "text": [
      "what is your name?  razvan buzincu\n"
     ]
    },
    {
     "name": "stdout",
     "output_type": "stream",
     "text": [
      "Thanks your name is Razvan Buzincu\n"
     ]
    }
   ],
   "source": [
    "name = input(\"what is your name? \") #this stores ot as the use inputs\n",
    "\n",
    "print(f\"Thanks your name is {name.strip().title()}\") # displays it with no whitespace and title cased but doesnt change how its stored"
   ]
  },
  {
   "cell_type": "code",
   "execution_count": null,
   "metadata": {},
   "outputs": [],
   "source": []
  },
  {
   "cell_type": "code",
   "execution_count": null,
   "metadata": {},
   "outputs": [],
   "source": []
  },
  {
   "cell_type": "code",
   "execution_count": null,
   "metadata": {},
   "outputs": [],
   "source": []
  },
  {
   "cell_type": "markdown",
   "metadata": {},
   "source": [
    "### Built-In Functions"
   ]
  },
  {
   "cell_type": "code",
   "execution_count": null,
   "metadata": {},
   "outputs": [],
   "source": [
    "# probably the most popular built in function is print()"
   ]
  },
  {
   "cell_type": "markdown",
   "metadata": {},
   "source": [
    "##### len()"
   ]
  },
  {
   "cell_type": "code",
   "execution_count": 68,
   "metadata": {},
   "outputs": [
    {
     "name": "stdout",
     "output_type": "stream",
     "text": [
      "6\n"
     ]
    },
    {
     "ename": "TypeError",
     "evalue": "object of type 'int' has no len()",
     "output_type": "error",
     "traceback": [
      "\u001b[1;31m---------------------------------------------------------------------------\u001b[0m",
      "\u001b[1;31mTypeError\u001b[0m                                 Traceback (most recent call last)",
      "Cell \u001b[1;32mIn[68], line 10\u001b[0m\n\u001b[0;32m      7\u001b[0m name_lenght \u001b[38;5;241m=\u001b[39m \u001b[38;5;28mlen\u001b[39m(name) \u001b[38;5;66;03m# len takes one argument which is the variable/iterable (e.g. strings, lists, dictionaries)\u001b[39;00m\n\u001b[0;32m      8\u001b[0m \u001b[38;5;28mprint\u001b[39m(name_lenght)\n\u001b[1;32m---> 10\u001b[0m num_length \u001b[38;5;241m=\u001b[39m \u001b[38;5;28;43mlen\u001b[39;49m\u001b[43m(\u001b[49m\u001b[43mnumber\u001b[49m\u001b[43m)\u001b[49m \u001b[38;5;66;03m# cant do this\u001b[39;00m\n\u001b[0;32m     11\u001b[0m \u001b[38;5;28mprint\u001b[39m(num_lenght)\n",
      "\u001b[1;31mTypeError\u001b[0m: object of type 'int' has no len()"
     ]
    }
   ],
   "source": [
    "#works for strings and lists\n",
    "# return the length of a given variable as an integer\n",
    "\n",
    "name  = \"Razvan\" #strings are iterables aka multiple pieces\n",
    "number = 72000 #integers and floats are not iterables\n",
    "\n",
    "name_lenght = len(name) # len takes one argument which is the variable/iterable (e.g. strings, lists, dictionaries)\n",
    "print(name_lenght)\n",
    "\n",
    "# num_length = len(number) # cant do this\n",
    "# print(num_lenght)\n",
    "\n"
   ]
  },
  {
   "cell_type": "markdown",
   "metadata": {},
   "source": [
    "##### help()"
   ]
  },
  {
   "cell_type": "code",
   "execution_count": 70,
   "metadata": {},
   "outputs": [
    {
     "name": "stdout",
     "output_type": "stream",
     "text": [
      "Help on built-in function len in module builtins:\n",
      "\n",
      "len(obj, /)\n",
      "    Return the number of items in a container.\n",
      "\n",
      "Help on built-in function print in module builtins:\n",
      "\n",
      "print(*args, sep=' ', end='\\n', file=None, flush=False)\n",
      "    Prints the values to a stream, or to sys.stdout by default.\n",
      "\n",
      "    sep\n",
      "      string inserted between values, default a space.\n",
      "    end\n",
      "      string appended after the last value, default a newline.\n",
      "    file\n",
      "      a file-like object (stream); defaults to the current sys.stdout.\n",
      "    flush\n",
      "      whether to forcibly flush the stream.\n",
      "\n"
     ]
    }
   ],
   "source": [
    "# gives a tooltip on a python built-in function\n",
    "\n",
    "help(len)\n",
    "help(print)\n"
   ]
  },
  {
   "cell_type": "markdown",
   "metadata": {},
   "source": [
    "##### isinstance()"
   ]
  },
  {
   "cell_type": "code",
   "execution_count": 71,
   "metadata": {},
   "outputs": [
    {
     "name": "stdout",
     "output_type": "stream",
     "text": [
      "This is in fact a whole number\n"
     ]
    }
   ],
   "source": [
    "#check a variable/value to find out what Object Family (data type) it belongs to\n",
    "# isinstance(var, type)    \n",
    "\n",
    "my_num = 11\n",
    "if isinstance(my_num, int):\n",
    "    print(\"This is in fact a whole number\")\n",
    "else:\n",
    "    print(\"No luck, not a number\")"
   ]
  },
  {
   "cell_type": "code",
   "execution_count": null,
   "metadata": {},
   "outputs": [],
   "source": [
    "\n"
   ]
  },
  {
   "cell_type": "code",
   "execution_count": null,
   "metadata": {},
   "outputs": [],
   "source": []
  },
  {
   "cell_type": "code",
   "execution_count": null,
   "metadata": {},
   "outputs": [],
   "source": []
  },
  {
   "cell_type": "markdown",
   "metadata": {},
   "source": [
    "##### abs()"
   ]
  },
  {
   "cell_type": "code",
   "execution_count": 75,
   "metadata": {},
   "outputs": [
    {
     "name": "stdout",
     "output_type": "stream",
     "text": [
      "5\n",
      "5\n",
      "5\n"
     ]
    }
   ],
   "source": [
    "# | 5 |\n",
    "# give us the distance to zero\n",
    "\n",
    "print(abs(-5)) # -5 has a distance of 5 from 0\n",
    "print(abs(5))  # 5 has a distance of 5 from 0\n",
    "\n",
    "#if i wanted to check the distance between tw #s but didnt always know which one was larger\n",
    "\n",
    "num1 = 15\n",
    "num2 = 10\n",
    "\n",
    "print(abs(num1 - num2))\n"
   ]
  },
  {
   "cell_type": "markdown",
   "metadata": {},
   "source": [
    "### Try and Except"
   ]
  },
  {
   "cell_type": "code",
   "execution_count": 77,
   "metadata": {},
   "outputs": [
    {
     "name": "stdin",
     "output_type": "stream",
     "text": [
      "How old are you? 21\n"
     ]
    },
    {
     "name": "stdout",
     "output_type": "stream",
     "text": [
      "happy birthday you were 21 but now you are 22\n"
     ]
    }
   ],
   "source": [
    "# use this whenever you expect encounter a bug so that the error doesn't cause the program to stop\n",
    "# logging graceful error messages to gently nudge the user in the right direction\n",
    "\n",
    "# the try just will house any code we are trying to run\n",
    "try: \n",
    "    age = int(input(\"How old are you?\"))\n",
    "    print(f\"happy birthday you were {age} but now you are {age + 1}\")\n",
    "except:\n",
    "    print(\"Please enter in a number not a text and try again\")\n",
    "    \n"
   ]
  },
  {
   "cell_type": "code",
   "execution_count": null,
   "metadata": {},
   "outputs": [],
   "source": []
  },
  {
   "cell_type": "markdown",
   "metadata": {},
   "source": [
    "## Exercise #1 <br>\n",
    "<p>Accept two user ages as inputs and give us the difference between them. (The Answer should always be a positive output)</p>"
   ]
  },
  {
   "cell_type": "code",
   "execution_count": null,
   "metadata": {},
   "outputs": [],
   "source": [
    "#ive use the abs() function to keep the age difference a positive number\n",
    "\n",
    "age1 = int(input(\"Type your age\"))\n",
    "age2 = int(input(\"Type your age\"))\n",
    "\n",
    "age_difference = abs(age1 - age2)\n",
    "print(\"Difference is\", age_difference)\n",
    "\n",
    "\n",
    "\n",
    "\n",
    "        \n",
    "        \n"
   ]
  },
  {
   "cell_type": "markdown",
   "metadata": {},
   "source": [
    "## Exercise #2 \n",
    "<p>Accept 3 user inputs for variables named noun, verb and adjective. Print out a formatted string using the outputs.</p>"
   ]
  },
  {
   "cell_type": "code",
   "execution_count": 83,
   "metadata": {},
   "outputs": [
    {
     "name": "stdin",
     "output_type": "stream",
     "text": [
      "What pet do you have?  a dog\n",
      "Does he run or walk?  walk\n",
      "What colour are his eyes  brown\n"
     ]
    },
    {
     "name": "stdout",
     "output_type": "stream",
     "text": [
      " a dog, walk, brown\n"
     ]
    }
   ],
   "source": [
    "#\n",
    "\n",
    "noun = input(\"What pet do you have? \")\n",
    "verb = input(\"Does he run or walk? \")\n",
    "adjective = input(\"What colour are his eyes \")\n",
    "print(f\" {noun}, {verb}, {adjective}\")\n",
    "\n",
    "\n"
   ]
  },
  {
   "cell_type": "markdown",
   "metadata": {},
   "source": [
    "## Exercise #3 <br>\n",
    "<p>Take in a users input for their age, if they are younger than 18 print kids, if they're 18 to 65 print adults, else print seniors</p>"
   ]
  },
  {
   "cell_type": "code",
   "execution_count": 99,
   "metadata": {},
   "outputs": [
    {
     "name": "stdin",
     "output_type": "stream",
     "text": [
      "How old are you? 15\n"
     ]
    },
    {
     "name": "stdout",
     "output_type": "stream",
     "text": [
      "kids\n"
     ]
    }
   ],
   "source": [
    "age = int(input(\"How old are you?\"))\n",
    "    \n",
    "if age < 18:\n",
    "    print(\"kids\")\n",
    "elif 18 <= age <= 65:\n",
    "    print(\"adults\")\n",
    "else:\n",
    "    print(\"seniors\")\n",
    "    \n"
   ]
  },
  {
   "cell_type": "markdown",
   "metadata": {},
   "source": [
    "## Exercise #4\n",
    "<p>Take in a number from a user input, output the number squared.</p>"
   ]
  },
  {
   "cell_type": "code",
   "execution_count": 98,
   "metadata": {},
   "outputs": [
    {
     "name": "stdin",
     "output_type": "stream",
     "text": [
      "Enter your number 3\n"
     ]
    },
    {
     "name": "stdout",
     "output_type": "stream",
     "text": [
      "9\n"
     ]
    }
   ],
   "source": [
    "number = int(input(\"Enter your number\"))\n",
    "print(number ** 2)"
   ]
  },
  {
   "cell_type": "markdown",
   "metadata": {},
   "source": [
    "## Exercise #5\n",
    "<p>Check the below variables' length. If the length of the word is greater than 5 output True, if it is less than 5, output False<p>\n"
   ]
  },
  {
   "cell_type": "code",
   "execution_count": null,
   "metadata": {},
   "outputs": [],
   "source": [
    "word1 = \"panini\"\n",
    "word2 = \"bulbasaur\"\n",
    "word3 = \"pie\"\n",
    "word4 = \"dolphin\"\n",
    "word5 = \"dog\"\n",
    "\n",
    "# brain fried will come back later"
   ]
  }
 ],
 "metadata": {
  "kernelspec": {
   "display_name": "Python 3 (ipykernel)",
   "language": "python",
   "name": "python3"
  },
  "language_info": {
   "codemirror_mode": {
    "name": "ipython",
    "version": 3
   },
   "file_extension": ".py",
   "mimetype": "text/x-python",
   "name": "python",
   "nbconvert_exporter": "python",
   "pygments_lexer": "ipython3",
   "version": "3.12.1"
  }
 },
 "nbformat": 4,
 "nbformat_minor": 4
}
